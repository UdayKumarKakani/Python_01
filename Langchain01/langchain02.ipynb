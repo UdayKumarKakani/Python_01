{
 "cells": [
  {
   "cell_type": "code",
   "execution_count": 1,
   "id": "3be6c6d1",
   "metadata": {},
   "outputs": [],
   "source": [
    "%load_ext dotenv\n",
    "%dotenv"
   ]
  },
  {
   "cell_type": "code",
   "execution_count": 4,
   "id": "ee3ca948",
   "metadata": {},
   "outputs": [],
   "source": [
    "from langchain_together import ChatTogether\n",
    "import os\n",
    "\n",
    "llm = ChatTogether(\n",
    "    model=\"meta-llama/Llama-3.3-70B-Instruct-Turbo\",\n",
    "    temperature=0,\n",
    "    max_tokens=None,\n",
    "    timeout=None,\n",
    "    max_retries=2,\n",
    "    api_key= os.getenv(\"TOGETHER_API_KEY\")\n",
    ")"
   ]
  },
  {
   "cell_type": "code",
   "execution_count": 5,
   "id": "0a6995dd",
   "metadata": {},
   "outputs": [
    {
     "name": "stdout",
     "output_type": "stream",
     "text": [
      "With so many programming languages out there, it can be overwhelming to decide which ones to learn. Here are some popular and in-demand programming languages that are worth considering:\n",
      "\n",
      "**For Beginners:**\n",
      "\n",
      "1. **Python**: Easy to learn, versatile, and widely used in data science, machine learning, web development, and more.\n",
      "2. **JavaScript**: Essential for web development, and also used in mobile and desktop app development, game development, and server-side programming.\n",
      "3. **HTML/CSS**: Not a programming language, but essential for web development and a great starting point for beginners.\n",
      "\n",
      "**For Web Development:**\n",
      "\n",
      "1. **Java**: Popular for Android app development, web development, and enterprise software development.\n",
      "2. **Ruby**: Known for its simplicity and ease of use, popular for web development with the Ruby on Rails framework.\n",
      "3. **PHP**: Widely used for web development, especially for building dynamic websites and web applications.\n",
      "\n",
      "**For Mobile App Development:**\n",
      "\n",
      "1. **Swift**: Used for developing iOS, macOS, watchOS, and tvOS apps.\n",
      "2. **Kotlin**: Used for developing Android apps, and also used for backend development.\n",
      "3. **React Native**: Allows you to build cross-platform mobile apps using JavaScript and React.\n",
      "\n",
      "**For Data Science and Machine Learning:**\n",
      "\n",
      "1. **R**: Popular for statistical computing, data visualization, and machine learning.\n",
      "2. **Julia**: A new language that's gaining popularity for its high performance and ease of use in data science and machine learning.\n",
      "3. **MATLAB**: Widely used in academia and industry for numerical computing, data analysis, and visualization.\n",
      "\n",
      "**For Game Development:**\n",
      "\n",
      "1. **C++**: A powerful language used for building games, game engines, and other high-performance applications.\n",
      "2. **C#**: Used for building games with the Unity game engine, and also used for Windows and web application development.\n",
      "3. **Lua**: A lightweight language used in game development, especially for scripting and game logic.\n",
      "\n",
      "**For Enterprise Software Development:**\n",
      "\n",
      "1. **C#**: Widely used for Windows and web application development, and also used for building games with Unity.\n",
      "2. **Java**: Popular for Android app development, web development, and enterprise software development.\n",
      "3. **Go**: A modern language developed by Google, used for building scalable and concurrent systems.\n",
      "\n",
      "Remember, the best language to learn is one that:\n",
      "\n",
      "1. Aligns with your interests and goals.\n",
      "2. Has a large community and plenty of resources.\n",
      "3. Is in demand in the industry.\n",
      "\n",
      "Start with one language, and as you gain experience and confidence, you can always learn more. Good luck, and happy coding!\n"
     ]
    }
   ],
   "source": [
    "ai_msg = llm.invoke('''I love programming. suggest me some good programming languages to learn.''')\n",
    "print(ai_msg.content)"
   ]
  },
  {
   "cell_type": "code",
   "execution_count": 4,
   "id": "4bbf296f",
   "metadata": {},
   "outputs": [],
   "source": [
    "from langchain_core.output_parsers import StrOutputParser, CommaSeparatedListOutputParser"
   ]
  },
  {
   "cell_type": "code",
   "execution_count": 5,
   "id": "68f01eb4",
   "metadata": {},
   "outputs": [
    {
     "data": {
      "text/plain": [
       "\"With so many programming languages out there, it can be overwhelming to decide which ones to learn. Here are some popular and in-demand programming languages that are worth considering:\\n\\n**For Beginners:**\\n\\n1. **Python**: Easy to learn, versatile, and widely used in data science, machine learning, web development, and automation.\\n2. **JavaScript**: Essential for web development, JavaScript is also used in mobile and desktop app development, game development, and server-side programming.\\n3. **HTML/CSS**: Not a programming language, but essential for web development, HTML (Hypertext Markup Language) and CSS (Cascading Style Sheets) are used to create web pages and applications.\\n\\n**For Web Development:**\\n\\n1. **Java**: A popular language for Android app development, web development, and enterprise software development.\\n2. **Ruby**: Known for its simplicity and ease of use, Ruby is a great language for web development, especially with the Ruby on Rails framework.\\n3. **PHP**: A mature language for web development, PHP is widely used for building dynamic websites and web applications.\\n\\n**For Mobile App Development:**\\n\\n1. **Swift**: Developed by Apple, Swift is used for building iOS, macOS, watchOS, and tvOS apps.\\n2. **Kotlin**: A modern language for Android app development, Kotlin is designed to be more concise and safe than Java.\\n3. **React Native**: A framework for building cross-platform mobile apps using JavaScript and React.\\n\\n**For Data Science and Machine Learning:**\\n\\n1. **R**: A popular language for statistical computing and data visualization, R is widely used in data science and academia.\\n2. **Julia**: A new language that's gaining popularity in the data science community, Julia is designed for high-performance numerical and scientific computing.\\n3. **TensorFlow**: An open-source machine learning framework developed by Google, TensorFlow is used for building and training machine learning models.\\n\\n**For Game Development:**\\n\\n1. **C++**: A high-performance language that's widely used in game development, C++ is also used in systems programming and high-performance computing.\\n2. **C#**: A modern language developed by Microsoft, C# is used for building Windows desktop and mobile apps, as well as games with the Unity game engine.\\n3. **UnityScript**: A scripting language used in the Unity game engine, UnityScript is similar to C# and JavaScript.\\n\\n**For Enterprise Software Development:**\\n\\n1. **C#**: A popular language for building Windows desktop and mobile apps, C# is also used in enterprise software development.\\n2. **Java**: A widely used language for building enterprise software, Java is known for its platform independence and large community.\\n3. **Go**: A modern language developed by Google, Go is designed for building scalable and concurrent systems.\\n\\nRemember, the best programming language to learn is one that:\\n\\n1. Aligns with your interests and goals.\\n2. Has a large and active community.\\n3. Is in demand in the job market.\\n4. Is easy to learn and has good resources available.\\n\\nStart with one language and focus on building projects and solving problems. As you gain experience, you can always learn more languages and expand your skill set. Good luck!\""
      ]
     },
     "execution_count": 5,
     "metadata": {},
     "output_type": "execute_result"
    }
   ],
   "source": [
    "str_output_parser = StrOutputParser()\n",
    "\n",
    "response_parsed = str_output_parser.invoke(ai_msg)\n",
    "response_parsed"
   ]
  },
  {
   "cell_type": "code",
   "execution_count": 6,
   "id": "64cf1105",
   "metadata": {},
   "outputs": [
    {
     "name": "stdout",
     "output_type": "stream",
     "text": [
      "['With so many programming languages out there', 'it can be overwhelming to decide which ones to learn. Here are some popular and in-demand programming languages that are worth considering:', '**For Beginners:**', '1. **Python**: Easy to learn', 'versatile', 'and widely used in data science', 'machine learning', 'web development', 'and automation.', '2. **JavaScript**: Essential for web development', 'JavaScript is also used in mobile and desktop app development', 'game development', 'and server-side programming.', '3. **HTML/CSS**: Not a programming language', 'but essential for web development', 'HTML (Hypertext Markup Language) and CSS (Cascading Style Sheets) are used to create web pages and applications.', '**For Web Development:**', '1. **Java**: A popular language for Android app development', 'web development', 'and enterprise software development.', '2. **Ruby**: Known for its simplicity and ease of use', 'Ruby is a great language for web development', 'especially with the Ruby on Rails framework.', '3. **PHP**: A mature language for web development', 'PHP is widely used for building dynamic websites and web applications.', '**For Mobile App Development:**', '1. **Swift**: Developed by Apple', 'Swift is used for building iOS', 'macOS', 'watchOS', 'and tvOS apps.', '2. **Kotlin**: A modern language for Android app development', 'Kotlin is designed to be more concise and safe than Java.', '3. **React Native**: A framework for building cross-platform mobile apps using JavaScript and React.', '**For Data Science and Machine Learning:**', '1. **R**: A popular language for statistical computing and data visualization', 'R is widely used in data science and academia.', \"2. **Julia**: A new language that's gaining popularity in the data science community\", 'Julia is designed for high-performance numerical and scientific computing.', '3. **TensorFlow**: An open-source machine learning framework developed by Google', 'TensorFlow is used for building and training machine learning models.', '**For Game Development:**', \"1. **C++**: A high-performance language that's widely used in game development\", 'C++ is also used in systems programming and high-performance computing.', '2. **C#**: A modern language developed by Microsoft', 'C# is used for building Windows desktop and mobile apps', 'as well as games with the Unity game engine.', '3. **UnityScript**: A scripting language used in the Unity game engine', 'UnityScript is similar to C# and JavaScript.', '**For Enterprise Software Development:**', '1. **C#**: A popular language for building Windows desktop and mobile apps', 'C# is also used in enterprise software development.', '2. **Java**: A widely used language for building enterprise software', 'Java is known for its platform independence and large community.', '3. **Go**: A modern language developed by Google', 'Go is designed for building scalable and concurrent systems.', 'Remember', 'the best programming language to learn is one that:', '1. Aligns with your interests and goals.', '2. Has a large and active community.', '3. Is in demand in the job market.', '4. Is easy to learn and has good resources available.', 'Start with one language and focus on building projects and solving problems. As you gain experience', 'you can always learn more languages and expand your skill set. Good luck!']\n",
      "Your response should be a list of comma separated values, eg: `foo, bar, baz` or `foo,bar,baz`\n"
     ]
    }
   ],
   "source": [
    "list_output_parser = CommaSeparatedListOutputParser()\n",
    "\n",
    "response_parsed = list_output_parser.invoke(ai_msg)\n",
    "\n",
    "print(response_parsed)\n",
    "\n",
    "print(list_output_parser.get_format_instructions())"
   ]
  },
  {
   "cell_type": "code",
   "execution_count": 4,
   "id": "3e7a8668",
   "metadata": {},
   "outputs": [
    {
     "data": {
      "text/plain": [
       "{'setup': 'Why did the football go to the doctor?',\n",
       " 'punchline': 'Because it was feeling a little deflated!'}"
      ]
     },
     "execution_count": 4,
     "metadata": {},
     "output_type": "execute_result"
    }
   ],
   "source": [
    "from langchain_core.output_parsers import JsonOutputParser\n",
    "from langchain_core.prompts import PromptTemplate\n",
    "from pydantic import BaseModel, Field\n",
    "\n",
    "\n",
    "# Define your desired data structure.\n",
    "class Joke(BaseModel):\n",
    "    setup: str = Field(description=\"question to set up a joke\")\n",
    "    punchline: str = Field(description=\"answer to resolve the joke\")\n",
    "\n",
    "\n",
    "# And a query intented to prompt a language model to populate the data structure.\n",
    "joke_query = \"Tell me a joke about football.\"\n",
    "\n",
    "# Set up a parser + inject instructions into the prompt template.\n",
    "parser = JsonOutputParser(pydantic_object=Joke)\n",
    "\n",
    "prompt = PromptTemplate(\n",
    "    template=\"Answer the user query.\\n{format_instructions}\\n{query}\\n\",\n",
    "    input_variables=[\"query\"],\n",
    "    partial_variables={\"format_instructions\": parser.get_format_instructions()},\n",
    ")\n",
    "\n",
    "chain = prompt | llm | parser\n",
    "\n",
    "chain.invoke({\"query\": joke_query})"
   ]
  },
  {
   "cell_type": "code",
   "execution_count": 5,
   "id": "420de09e",
   "metadata": {},
   "outputs": [
    {
     "name": "stdout",
     "output_type": "stream",
     "text": [
      "{}\n",
      "{'setup': ''}\n",
      "{'setup': 'Why'}\n",
      "{'setup': 'Why did'}\n",
      "{'setup': 'Why did the'}\n",
      "{'setup': 'Why did the football'}\n",
      "{'setup': 'Why did the football go'}\n",
      "{'setup': 'Why did the football go to'}\n",
      "{'setup': 'Why did the football go to the'}\n",
      "{'setup': 'Why did the football go to the doctor'}\n",
      "{'setup': 'Why did the football go to the doctor?'}\n",
      "{'setup': 'Why did the football go to the doctor?', 'punchline': ''}\n",
      "{'setup': 'Why did the football go to the doctor?', 'punchline': 'Because'}\n",
      "{'setup': 'Why did the football go to the doctor?', 'punchline': 'Because it'}\n",
      "{'setup': 'Why did the football go to the doctor?', 'punchline': 'Because it was'}\n",
      "{'setup': 'Why did the football go to the doctor?', 'punchline': 'Because it was feeling'}\n",
      "{'setup': 'Why did the football go to the doctor?', 'punchline': 'Because it was feeling a'}\n",
      "{'setup': 'Why did the football go to the doctor?', 'punchline': 'Because it was feeling a little'}\n",
      "{'setup': 'Why did the football go to the doctor?', 'punchline': 'Because it was feeling a little def'}\n",
      "{'setup': 'Why did the football go to the doctor?', 'punchline': 'Because it was feeling a little deflated'}\n",
      "{'setup': 'Why did the football go to the doctor?', 'punchline': 'Because it was feeling a little deflated!'}\n"
     ]
    }
   ],
   "source": [
    "for s in chain.stream({\"query\": joke_query}):\n",
    "    print(s)"
   ]
  },
  {
   "cell_type": "code",
   "execution_count": null,
   "id": "07995aea",
   "metadata": {},
   "outputs": [],
   "source": [
    "from langchain_core.prompts import ChatPromptTemplate\n",
    "from langchain_core.prompts import PromptTemplate"
   ]
  },
  {
   "cell_type": "code",
   "execution_count": 14,
   "id": "775b9b6a",
   "metadata": {},
   "outputs": [],
   "source": [
    "chat_template = ChatPromptTemplate.from_messages([\n",
    "    ('human', \n",
    "     \"I've recently adopted a {pet} which is a {breed}. Could you suggest several training tips?\")])"
   ]
  },
  {
   "cell_type": "code",
   "execution_count": 21,
   "id": "2b24fefd",
   "metadata": {},
   "outputs": [],
   "source": [
    "chain = chat_template | llm "
   ]
  },
  {
   "cell_type": "code",
   "execution_count": 22,
   "id": "a984f9a6",
   "metadata": {},
   "outputs": [
    {
     "data": {
      "text/plain": [
       "AIMessage(content='Congratulations on adopting a new furry family member. German Shepherds are highly intelligent and responsive to training, making them a popular breed for many dog owners. Here are several training tips to help you get started:\\n\\n1. **Establish a routine**: Shepherds thrive on routine and structure. Create a schedule for feeding, exercise, and playtime to help your dog feel secure and develop good habits.\\n2. **Positive reinforcement**: Reward your dog with treats, praise, and affection when they exhibit good behavior. This encourages positive reinforcement and helps build trust between you and your dog.\\n3. **Start with basic commands**: Teach basic commands like \"sit,\" \"stay,\" \"come,\" and \"leave it.\" Use positive reinforcement and be consistent in your commands.\\n4. **Socialization**: Socialization is crucial for German Shepherds, as they can be wary of strangers and new environments. Introduce your dog to new people, places, and experiences to help them become confident and calm in new situations.\\n5. **Housebreaking**: Establish a designated potty area and take your dog there immediately after meals, naps, and playtime. Praise and reward your dog when they eliminate in the correct area.\\n6. **Crate training**: Crate training can help with housebreaking, reduce separation anxiety, and prevent destructive behavior. Introduce the crate gradually, starting with short periods and increasing the duration.\\n7. **Exercise and mental stimulation**: German Shepherds are high-energy dogs that require regular exercise and mental stimulation. Provide daily walks, playtime, and engage your dog in activities like agility, obedience, or scent work.\\n8. **Be consistent and patient**: Training a German Shepherd requires consistency, patience, and positive reinforcement. Avoid punishment or negative reinforcement, as this can lead to fear and aggression.\\n9. **Use high-value rewards**: German Shepherds are highly motivated by rewards, so use high-value treats and praise to encourage good behavior.\\n10. **Seek professional help**: If you\\'re experiencing difficulties with training or addressing specific behavioral issues, consider seeking help from a professional dog trainer or behaviorist.\\n\\nAdditional tips:\\n\\n* **Keep training sessions short**: German Shepherds have a short attention span, so keep training sessions short and fun.\\n* **Use clear and concise commands**: Avoid using complex commands or sentences, and instead use clear and concise commands that your dog can understand.\\n* **Be calm and assertive**: German Shepherds respond well to calm and assertive energy, so avoid being nervous or aggressive during training.\\n* **Provide mental stimulation**: Provide your dog with puzzle toys, interactive games, and scent work to keep their mind engaged and stimulated.\\n\\nRemember, every dog is unique, so be patient and adjust your training approach as needed to meet your dog\\'s individual needs and personality. Good luck, and enjoy your journey with your new furry companion!', additional_kwargs={'refusal': None}, response_metadata={'token_usage': {'completion_tokens': 581, 'prompt_tokens': 53, 'total_tokens': 634, 'completion_tokens_details': None, 'prompt_tokens_details': None, 'cached_tokens': 0}, 'model_name': 'meta-llama/Llama-3.3-70B-Instruct-Turbo', 'system_fingerprint': None, 'id': 'o6m1wxT-62bZhn-96da105e698c3ebe', 'service_tier': None, 'finish_reason': 'stop', 'logprobs': None}, id='run--d7ab5422-6e4c-416a-a2ac-a193f7782add-0', usage_metadata={'input_tokens': 53, 'output_tokens': 581, 'total_tokens': 634, 'input_token_details': {}, 'output_token_details': {}})"
      ]
     },
     "execution_count": 22,
     "metadata": {},
     "output_type": "execute_result"
    }
   ],
   "source": [
    "chain.invoke({\"pet\": \"dog\", \"breed\": \"shepherd\"})"
   ]
  },
  {
   "cell_type": "code",
   "execution_count": 23,
   "id": "5124d6ba",
   "metadata": {},
   "outputs": [
    {
     "name": "stdout",
     "output_type": "stream",
     "text": [
      "CPU times: total: 62.5 ms\n",
      "Wall time: 6.45 s\n"
     ]
    },
    {
     "data": {
      "text/plain": [
       "[AIMessage(content='Congratulations on adopting a new furry family member. German Shepherds are highly intelligent and responsive to training, making them a popular breed for many dog owners. Here are several training tips to help you get started:\\n\\n1. **Establish a routine**: Shepherds thrive on routine and structure. Create a schedule for feeding, exercise, and playtime to help your dog feel secure and develop good habits.\\n2. **Positive reinforcement**: Reward your dog with treats, praise, and affection when they exhibit good behavior. This encourages positive reinforcement and helps build trust between you and your dog.\\n3. **Start with basic commands**: Teach basic commands like \"sit,\" \"stay,\" \"come,\" and \"leave it.\" Use positive reinforcement and be consistent in your commands.\\n4. **Socialization**: Socialization is crucial for German Shepherds, as they can be wary of strangers and new environments. Introduce your dog to new people, places, and experiences to help them become confident and calm.\\n5. **Housebreaking**: Establish a designated potty area and reward your dog for eliminating in that area. Watch for signs that your dog needs to go, such as sniffing or circling.\\n6. **Crate training**: Crate training can help with housebreaking, reduce separation anxiety, and prevent destructive behavior. Introduce the crate gradually, making it a comfortable and safe space for your dog.\\n7. **Exercise and mental stimulation**: German Shepherds are high-energy dogs that require regular exercise and mental stimulation. Provide daily walks, playtime, and engage your dog in activities like obedience training, agility, or scent work.\\n8. **Be consistent and patient**: Training a German Shepherd requires time, effort, and patience. Consistency is key, so establish clear rules and boundaries and stick to them.\\n9. **Use high-value rewards**: German Shepherds are highly motivated by rewards, so use high-value treats and praise to encourage good behavior.\\n10. **Seek professional help**: If you\\'re experiencing difficulties with training or addressing specific behavioral issues, consider seeking help from a professional dog trainer or behaviorist.\\n\\nAdditional tips:\\n\\n* **Keep training sessions short**: German Shepherds have a short attention span, so keep training sessions short and fun.\\n* **Use clear and concise commands**: Avoid using complex commands or long sentences. Instead, use clear and concise commands that your dog can easily understand.\\n* **Be calm and assertive**: German Shepherds respond well to calm and assertive energy. Avoid yelling or punishing your dog, as this can create anxiety and undermine the training process.\\n\\nRemember, every dog is unique, so be patient and adapt your training approach to your dog\\'s individual needs and personality. Good luck, and enjoy your journey with your new furry companion!', additional_kwargs={'refusal': None}, response_metadata={'token_usage': {'completion_tokens': 560, 'prompt_tokens': 53, 'total_tokens': 613, 'completion_tokens_details': None, 'prompt_tokens_details': None, 'cached_tokens': 0}, 'model_name': 'meta-llama/Llama-3.3-70B-Instruct-Turbo', 'system_fingerprint': None, 'id': 'o6m24Ez-4YNCb4-96da10e4bae55c15', 'service_tier': None, 'finish_reason': 'stop', 'logprobs': None}, id='run--86d02c9d-aab3-40ce-9643-f90164851321-0', usage_metadata={'input_tokens': 53, 'output_tokens': 560, 'total_tokens': 613, 'input_token_details': {}, 'output_token_details': {}}),\n",
       " AIMessage(content='Congratulations on adopting a Night Fury dragon! Training a Night Fury can be a thrilling experience, but it requires patience, consistency, and a deep understanding of their unique characteristics. Here are some training tips to help you build a strong bond with your new companion:\\n\\n1. **Establish trust**: Night Furies are known for their independence and strong will. Start by building trust through gentle interactions, offering treats, and speaking in a calm, soothing voice. Let your dragon become comfortable with your presence, scent, and touch.\\n2. **Use positive reinforcement**: Reward your Night Fury with treats, praise, and affection when they exhibit desired behaviors, such as responding to commands or performing tricks. Avoid punishment or negative reinforcement, as this can lead to fear and aggression.\\n3. **Start with basic commands**: Teach your Night Fury basic commands like \"sit,\" \"stay,\" \"come,\" and \"follow.\" Use a consistent tone and hand signals to help them associate the commands with the desired actions.\\n4. **Respect their boundaries**: Night Furies are naturally territorial and may become defensive if they feel their space is being invaded. Respect their personal boundaries and allow them to initiate interactions.\\n5. **Provide mental stimulation**: Night Furies are highly intelligent and require mental stimulation to prevent boredom and stress. Engage your dragon in problem-solving activities, such as hiding treats or toys, or creating obstacle courses.\\n6. **Train in short sessions**: Night Furies have a short attention span, so train in short sessions (10-15 minutes) to keep them focused and engaged.\\n7. **Be aware of their body language**: Night Furies communicate primarily through body language. Learn to recognize their postures, facial expressions, and tail positions to understand their mood and intentions.\\n8. **Provide a suitable environment**: Ensure your Night Fury has a safe and comfortable living space, with adequate room to fly, exercise, and rest. Provide a varied diet and access to fresh water.\\n9. **Socialize your dragon**: Socialization is crucial for Night Furies, as they can become aggressive if not exposed to other dragons and humans. Gradually introduce your dragon to new environments, people, and other dragons to help them develop good social skills.\\n10. **Seek professional guidance**: If you\\'re new to dragon training, consider seeking guidance from experienced dragon trainers or behaviorists. They can provide personalized advice and help you address any specific challenges you may face.\\n\\nRemember, every Night Fury is unique, so be patient and adapt your training approach to your dragon\\'s individual needs and personality.\\n\\nAdditional tips:\\n\\n* Be prepared for the possibility of your Night Fury becoming attached to you and following you everywhere.\\n* Night Furies are naturally nocturnal, so be prepared for late-night flights and activities.\\n* Keep a safe distance from your dragon\\'s wings, as they can be quite powerful and may accidentally knock you off balance.\\n* Be mindful of your dragon\\'s fire-breathing abilities and take necessary precautions to prevent accidents.\\n\\nBy following these tips and being committed to your dragon\\'s training and well-being, you can develop a strong, loving bond with your Night Fury and enjoy a rewarding companionship.', additional_kwargs={'refusal': None}, response_metadata={'token_usage': {'completion_tokens': 635, 'prompt_tokens': 54, 'total_tokens': 689, 'completion_tokens_details': None, 'prompt_tokens_details': None, 'cached_tokens': 0}, 'model_name': 'meta-llama/Llama-3.3-70B-Instruct-Turbo', 'system_fingerprint': None, 'id': 'o6m248E-62bZhn-96da10e4a987e0d2', 'service_tier': None, 'finish_reason': 'stop', 'logprobs': None}, id='run--831f0ca7-b5cc-4298-9441-d5fe879a2c1b-0', usage_metadata={'input_tokens': 54, 'output_tokens': 635, 'total_tokens': 689, 'input_token_details': {}, 'output_token_details': {}})]"
      ]
     },
     "execution_count": 23,
     "metadata": {},
     "output_type": "execute_result"
    }
   ],
   "source": [
    "%%time\n",
    "chain.batch([{'pet':'dog', 'breed':'shepherd'}, \n",
    "             {'pet':'dragon', 'breed':'night fury'}])"
   ]
  },
  {
   "cell_type": "code",
   "execution_count": 24,
   "id": "14b3182e",
   "metadata": {},
   "outputs": [
    {
     "name": "stdout",
     "output_type": "stream",
     "text": [
      "CPU times: total: 31.2 ms\n",
      "Wall time: 6.13 s\n"
     ]
    },
    {
     "data": {
      "text/plain": [
       "AIMessage(content='Congratulations on adopting a new furry family member. German Shepherds are highly intelligent and responsive to training, making them a popular breed for many dog owners. Here are several training tips to help you get started:\\n\\n1. **Establish a routine**: Shepherds thrive on routine and structure. Create a schedule for feeding, exercise, and playtime to help your dog feel secure and develop good habits.\\n2. **Positive reinforcement**: Reward your dog with treats, praise, and affection when they exhibit good behavior. This encourages positive reinforcement and helps build trust between you and your dog.\\n3. **Socialization**: Socialization is crucial for German Shepherds, as they can be naturally wary of strangers. Introduce your dog to new people, places, and experiences to help them become confident and calm in new situations.\\n4. **Basic obedience commands**: Teach basic commands like \"sit,\" \"stay,\" \"come,\" and \"leave it.\" Use positive reinforcement and be consistent in your commands.\\n5. **Housebreaking**: Establish a designated potty area and reward your dog for eliminating in that area. Watch for signs that your dog needs to go, such as sniffing or circling.\\n6. **Crate training**: Crate training can help with housebreaking, reduce separation anxiety, and prevent destructive behavior. Introduce the crate gradually, making it a comfortable and safe space for your dog.\\n7. **Exercise and mental stimulation**: German Shepherds are high-energy dogs that require regular exercise and mental stimulation. Provide daily walks, playtime, and engage your dog in activities like agility, obedience, or scent work.\\n8. **Be consistent**: Consistency is key when training a German Shepherd. Set clear boundaries and rules, and ensure all family members are on the same page.\\n9. **Use high-value rewards**: German Shepherds are highly motivated by rewards, so use high-value treats and praise to encourage good behavior.\\n10. **Seek professional help**: If you\\'re experiencing difficulties with training or addressing specific behavioral issues, consider seeking help from a professional dog trainer or behaviorist.\\n\\nAdditional tips:\\n\\n* Start training early, as German Shepherds are most receptive to training between 8 and 11 weeks old.\\n* Keep training sessions short and fun to avoid overwhelming your dog.\\n* Use clear, concise commands and avoid punishing or scolding your dog for mistakes.\\n* Be patient and remember that training is a process that takes time, effort, and patience.\\n\\nRemember, every dog is unique, so it\\'s essential to tailor your training approach to your dog\\'s individual needs and personality. Good luck, and enjoy your journey with your new furry companion!', additional_kwargs={'refusal': None}, response_metadata={'token_usage': {'completion_tokens': 536, 'prompt_tokens': 53, 'total_tokens': 589, 'completion_tokens_details': None, 'prompt_tokens_details': None, 'cached_tokens': 0}, 'model_name': 'meta-llama/Llama-3.3-70B-Instruct-Turbo', 'system_fingerprint': None, 'id': 'o6m27tM-4YNCb4-96da11370a96a781', 'service_tier': None, 'finish_reason': 'stop', 'logprobs': None}, id='run--bab5dcf7-d7a1-4ff0-8647-d75b0c313022-0', usage_metadata={'input_tokens': 53, 'output_tokens': 536, 'total_tokens': 589, 'input_token_details': {}, 'output_token_details': {}})"
      ]
     },
     "execution_count": 24,
     "metadata": {},
     "output_type": "execute_result"
    }
   ],
   "source": [
    "%%time\n",
    "chain.invoke({'pet':'dog', 'breed':'shepherd'})"
   ]
  },
  {
   "cell_type": "code",
   "execution_count": 25,
   "id": "78d0381f",
   "metadata": {},
   "outputs": [
    {
     "name": "stdout",
     "output_type": "stream",
     "text": [
      "CPU times: total: 15.6 ms\n",
      "Wall time: 7.56 s\n"
     ]
    },
    {
     "data": {
      "text/plain": [
       "AIMessage(content='Congratulations on adopting a Night Fury dragon! Training a dragon, especially a Night Fury, requires patience, consistency, and a deep understanding of their behavior and needs. Here are some tips to help you train your new companion:\\n\\n1. **Establish trust**: Night Furies are known for their intelligence and independence. Building trust is crucial, so start by spending quiet time with your dragon, letting it become familiar with your presence, voice, and scent.\\n2. **Use positive reinforcement**: Reward your dragon with treats, praise, and affection when it responds to commands or exhibits desired behavior. Avoid punishment or negative reinforcement, as this can lead to fear and aggression.\\n3. **Start with basic commands**: Teach your dragon basic commands like \"sit,\" \"stay,\" \"come,\" and \"leave it.\" Use a calm, clear tone and consistent hand signals to help your dragon understand what you want.\\n4. **Respect personal space**: Night Furies value their independence and may not always want to interact. Respect your dragon\\'s personal space and let it come to you when it\\'s ready for attention or training.\\n5. **Be aware of body language**: Pay attention to your dragon\\'s body language, such as ear position, tail swishing, and vocalizations. If your dragon appears stressed or uncomfortable, it\\'s best to slow down or stop the training session.\\n6. **Use high-value rewards**: Night Furies are highly motivated by food and praise. Use high-value treats, such as fish or meat, to reward good behavior and encourage learning.\\n7. **Practice flying and aerial training**: As a Night Fury, your dragon is naturally inclined to fly. Practice flying and aerial training in a safe, open area, using verbal cues and hand signals to guide your dragon.\\n8. **Socialization is key**: Socialize your dragon with other dragons, people, and environments to help it become confident and calm in new situations.\\n9. **Be patient and consistent**: Training a Night Fury takes time, patience, and consistency. Set realistic goals and celebrate small successes along the way.\\n10. **Seek guidance from experienced dragon trainers**: If you\\'re new to dragon training, consider seeking guidance from experienced trainers or dragon handlers who can provide valuable advice and support.\\n\\nRemember, every dragon is unique, so it\\'s essential to tailor your training approach to your Night Fury\\'s individual personality, needs, and learning style.\\n\\nAdditional tips:\\n\\n* Make sure you have a suitable enclosure or flying area that provides enough space for your dragon to move around and exercise.\\n* Provide a balanced diet that meets your dragon\\'s nutritional needs, and ensure access to fresh water and a clean living environment.\\n* Be prepared for the challenges and responsibilities that come with owning a dragon, including regular training, socialization, and veterinary care.\\n\\nI hope these tips help you get started on your dragon training journey!', additional_kwargs={'refusal': None}, response_metadata={'token_usage': {'completion_tokens': 575, 'prompt_tokens': 54, 'total_tokens': 629, 'completion_tokens_details': None, 'prompt_tokens_details': None, 'cached_tokens': 0}, 'model_name': 'meta-llama/Llama-3.3-70B-Instruct-Turbo', 'system_fingerprint': None, 'id': 'o6m29fV-4YNCb4-96da115c69d8a781', 'service_tier': None, 'finish_reason': 'stop', 'logprobs': None}, id='run--0567a069-990b-4852-9956-20f5e256794f-0', usage_metadata={'input_tokens': 54, 'output_tokens': 575, 'total_tokens': 629, 'input_token_details': {}, 'output_token_details': {}})"
      ]
     },
     "execution_count": 25,
     "metadata": {},
     "output_type": "execute_result"
    }
   ],
   "source": [
    "%%time\n",
    "chain.invoke({'pet':'dragon', 'breed':'night fury'})"
   ]
  }
 ],
 "metadata": {
  "kernelspec": {
   "display_name": "uday_U01",
   "language": "python",
   "name": "python3"
  },
  "language_info": {
   "codemirror_mode": {
    "name": "ipython",
    "version": 3
   },
   "file_extension": ".py",
   "mimetype": "text/x-python",
   "name": "python",
   "nbconvert_exporter": "python",
   "pygments_lexer": "ipython3",
   "version": "3.11.13"
  }
 },
 "nbformat": 4,
 "nbformat_minor": 5
}
