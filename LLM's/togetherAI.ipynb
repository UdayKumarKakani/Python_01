{
 "cells": [
  {
   "cell_type": "markdown",
   "id": "a23d6182",
   "metadata": {},
   "source": [
    "Model categories:\n",
    "\n",
    "By Function (What they do)\n",
    "\n",
    "By Modality (What data they work with)\n",
    "\n",
    "![alt text](image.png)\n",
    "\n",
    "![alt text](image-1.png)\n",
    "\n",
    "\n",
    "\n",
    "\n"
   ]
  },
  {
   "cell_type": "markdown",
   "id": "a3485a73",
   "metadata": {},
   "source": [
    "By weighing setup complexity, compute resources, cost, control, and privacy requirements, you can decide whether a local LLM deployment (Hugging Face, Ollama) or a cloud-hosted API (OpenAI, Anthropic) best fits your project."
   ]
  },
  {
   "cell_type": "code",
   "execution_count": 1,
   "id": "9f0d7ebb",
   "metadata": {},
   "outputs": [],
   "source": [
    "from together import Together\n",
    "# Set your TogetherAI API key\n",
    "TOGETHER_API_KEY = \"tgp_v1_Gdl66OKThh1KsJjEym9JEgDMqFWqd6bXtlZhviYqf34\" # Or replace with your key as a string\n",
    "# Initialize Together client\n",
    "client = Together(api_key=TOGETHER_API_KEY)\n"
   ]
  },
  {
   "cell_type": "code",
   "execution_count": 2,
   "id": "d76d8ad8",
   "metadata": {},
   "outputs": [
    {
     "name": "stdout",
     "output_type": "stream",
     "text": [
      "The city that never sleeps! New York has endless options for entertainment, culture, and adventure. Here are some fun things to do in New York:\n",
      "\n",
      "**Iconic Landmarks:**\n",
      "\n",
      "1. **Statue of Liberty and Ellis Island**: Take a ferry to Liberty Island to see the iconic statue up close and visit the Ellis Island Immigration Museum.\n",
      "2. **Central Park**: Explore the park's many walking paths, lakes, and landmarks like the Bethesda Fountain and Loeb Boathouse.\n",
      "3. **Times Square**: Experience the bright lights and energy of the \"Crossroads of the World.\"\n",
      "4. **Empire State Building**: Enjoy panoramic views of the city from the observation deck on the 86th floor.\n",
      "5. **Brooklyn Bridge**: Walk or bike across the iconic bridge for spectacular city views.\n",
      "\n",
      "**Museums and Galleries:**\n",
      "\n",
      "1. **The Metropolitan Museum of Art**: One of the world's largest and most renowned museums, with a collection that spans over 5,000 years of human history.\n",
      "2. **American Museum of Natural History**: Explore the wonders of the natural world, from dinosaurs to space exploration.\n",
      "3. **Museum of Modern Art (MoMA)**: Discover an extensive collection of modern and contemporary art.\n",
      "4. **Guggenheim Museum**: Admire the unique architecture and innovative exhibitions.\n",
      "5. **9/11 Memorial & Museum**: A poignant tribute to the victims of the 9/11 attacks.\n",
      "\n",
      "**Food and Drink:**\n",
      "\n",
      "1. **Try a classic New York-style pizza**: Visit iconic pizzerias like Lombardi's, Joe's Pizza, or Patsy's Pizzeria.\n",
      "2. **Explore Chinatown and Little Italy**: Sample the diverse culinary delights of these vibrant neighborhoods.\n",
      "3. **Visit a rooftop bar**: Enjoy a drink with a view at spots like 230 Fifth or the Top of the Strand.\n",
      "4. **Take a food tour**: Sample the city's best eats on a guided tour of neighborhoods like Greenwich Village or Astoria.\n",
      "5. **Visit a classic diner**: Experience the nostalgia of a vintage diner like Ellen's Stardust Diner or the Tick Tock Diner.\n",
      "\n",
      "**Performing Arts:**\n",
      "\n",
      "1. **Broadway shows**: Catch a performance of a hit musical or play on the Great White Way.\n",
      "2. **Lincoln Center**: Attend a concert, ballet, or opera performance at this world-renowned cultural complex.\n",
      "3. **Carnegie Hall**: Enjoy a classical music performance at this iconic concert venue.\n",
      "4. **Jazz clubs**: Discover the city's vibrant jazz scene at spots like the Blue Note or the Village Vanguard.\n",
      "5. **Comedy clubs**: Laugh out loud at legendary clubs like Carolines on Broadway or the Comedy Cellar.\n",
      "\n",
      "**Sports and Outdoor Activities:**\n",
      "\n",
      "1. **Watch a Yankees or Mets game**: Catch a baseball game at Yankee Stadium or Citi Field.\n",
      "2. **Visit the High Line**: Explore the elevated park built on an old rail line, with great views of the Hudson River.\n",
      "3. **Go kayaking or paddleboarding**: Rent equipment and enjoy the city's waterways.\n",
      "4. **Take a bike ride**: Rent a bike and ride through Central Park or along the Hudson River Greenway.\n",
      "5. **Visit the Bronx Zoo**: Explore the largest metropolitan zoo in the United States.\n",
      "\n",
      "**Shopping:**\n",
      "\n",
      "1. **Fifth Avenue**: Shop at iconic department stores like Saks Fifth Avenue, Bergdorf Goodman, or Tiffany & Co.\n",
      "2. **SoHo**: Browse the trendy boutiques and art galleries in this fashionable neighborhood.\n",
      "3. **Brooklyn Flea**: Visit the weekend market for vintage goods, artisanal foods, and unique souvenirs.\n",
      "4. **Grand Central Market**: Sample the city's best food and drink vendors in this historic train station.\n",
      "5. **Chelsea Market**: Explore the indoor market's shops, restaurants, and food stalls.\n",
      "\n",
      "These are just a few of the many fun things to do in New York. Whether you're interested in history, culture, food, or adventure, the city has something for everyone!\n"
     ]
    }
   ],
   "source": [
    "response = client.chat.completions.create(\n",
    "    model=\"meta-llama/Llama-3.3-70B-Instruct-Turbo-Free\",\n",
    "    messages=[\n",
    "      {\n",
    "        \"role\": \"user\",\n",
    "        \"content\": \"What are some fun things to do in New York?\"\n",
    "      }\n",
    "    ]\n",
    ")\n",
    "print(response.choices[0].message.content)"
   ]
  }
 ],
 "metadata": {
  "kernelspec": {
   "display_name": "uday_U01",
   "language": "python",
   "name": "python3"
  },
  "language_info": {
   "codemirror_mode": {
    "name": "ipython",
    "version": 3
   },
   "file_extension": ".py",
   "mimetype": "text/x-python",
   "name": "python",
   "nbconvert_exporter": "python",
   "pygments_lexer": "ipython3",
   "version": "3.11.13"
  }
 },
 "nbformat": 4,
 "nbformat_minor": 5
}
