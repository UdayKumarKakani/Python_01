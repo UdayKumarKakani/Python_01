{
 "cells": [
  {
   "cell_type": "markdown",
   "id": "91cbcae5",
   "metadata": {},
   "source": [
    "# 🧠 Complete Object-Oriented Programming (OOP) in Python"
   ]
  },
  {
   "cell_type": "markdown",
   "id": "b5b1cabc",
   "metadata": {},
   "source": [
    "## 🔹 Basics: Class, Object, Constructor, Method, and Attributes"
   ]
  },
  {
   "cell_type": "code",
   "execution_count": null,
   "id": "a23aebc2",
   "metadata": {},
   "outputs": [],
   "source": [
    "# Class and Object\n",
    "class Student:\n",
    "    pass\n",
    "\n",
    "s1 = Student()\n",
    "print(type(s1))\n",
    "\n",
    "# Adding attributes manually\n",
    "s1.name = \"Ali\"\n",
    "s1.age = 22\n",
    "print(s1.name, s1.age)\n",
    "\n",
    "# Constructor (__init__) and Attributes\n",
    "class Student:\n",
    "    def __init__(self, name, age):\n",
    "        self.name = name\n",
    "        self.age = age\n",
    "\n",
    "s2 = Student(\"Aisha\", 21)\n",
    "print(s2.name, s2.age)\n",
    "\n",
    "# Method Example\n",
    "class Student:\n",
    "    def __init__(self, name, age):\n",
    "        self.name = name\n",
    "        self.age = age\n",
    "\n",
    "    def greet(self):\n",
    "        print(f\"My name is {self.name} and I am {self.age} years old.\")\n",
    "\n",
    "s3 = Student(\"Zain\", 20)\n",
    "s3.greet()"
   ]
  },
  {
   "cell_type": "markdown",
   "id": "9158bdb7",
   "metadata": {},
   "source": [
    "## 🔹 Inheritance (5 Types)"
   ]
  },
  {
   "cell_type": "code",
   "execution_count": null,
   "id": "96331311",
   "metadata": {},
   "outputs": [],
   "source": [
    "# Simple Inheritance\n",
    "class Animal:\n",
    "    def speak(self):\n",
    "        print(\"Animal speaks\")\n",
    "\n",
    "class Dog(Animal):\n",
    "    def speak(self):\n",
    "        print(\"Dog barks\")\n",
    "\n",
    "Dog().speak()"
   ]
  },
  {
   "cell_type": "code",
   "execution_count": null,
   "id": "42086f08",
   "metadata": {},
   "outputs": [],
   "source": [
    "# Multiple Inheritance\n",
    "class Father:\n",
    "    def skills(self):\n",
    "        print(\"Can drive\")\n",
    "\n",
    "class Mother:\n",
    "    def cooking(self):\n",
    "        print(\"Can cook\")\n",
    "\n",
    "class Child(Father, Mother):\n",
    "    def study(self):\n",
    "        print(\"Studies well\")\n",
    "\n",
    "c = Child()\n",
    "c.skills()\n",
    "c.cooking()\n",
    "c.study()"
   ]
  },
  {
   "cell_type": "code",
   "execution_count": null,
   "id": "dad02055",
   "metadata": {},
   "outputs": [],
   "source": [
    "# Multilevel Inheritance\n",
    "class Grandparent:\n",
    "    def property(self):\n",
    "        print(\"Owns property\")\n",
    "\n",
    "class Parent(Grandparent):\n",
    "    def work(self):\n",
    "        print(\"Parent works\")\n",
    "\n",
    "class Kid(Parent):\n",
    "    def play(self):\n",
    "        print(\"Kid plays\")\n",
    "\n",
    "Kid().property()\n",
    "Kid().work()\n",
    "Kid().play()"
   ]
  },
  {
   "cell_type": "code",
   "execution_count": null,
   "id": "2d562613",
   "metadata": {},
   "outputs": [],
   "source": [
    "# Hierarchical Inheritance\n",
    "class Vehicle:\n",
    "    def engine(self):\n",
    "        print(\"Has an engine\")\n",
    "\n",
    "class Car(Vehicle): pass\n",
    "class Bike(Vehicle): pass\n",
    "\n",
    "Car().engine()\n",
    "Bike().engine()"
   ]
  },
  {
   "cell_type": "code",
   "execution_count": null,
   "id": "fba58af0",
   "metadata": {},
   "outputs": [],
   "source": [
    "# Hybrid Inheritance\n",
    "class A:\n",
    "    def methodA(self):\n",
    "        print(\"A method\")\n",
    "\n",
    "class B(A):\n",
    "    def methodB(self):\n",
    "        print(\"B method\")\n",
    "\n",
    "class C:\n",
    "    def methodC(self):\n",
    "        print(\"C method\")\n",
    "\n",
    "class D(B, C):\n",
    "    def methodD(self):\n",
    "        print(\"D method\")\n",
    "\n",
    "d = D()\n",
    "d.methodA()\n",
    "d.methodB()\n",
    "d.methodC()\n",
    "d.methodD()"
   ]
  },
  {
   "cell_type": "markdown",
   "id": "35eb7e4d",
   "metadata": {},
   "source": [
    "## 🔹 Polymorphism"
   ]
  },
  {
   "cell_type": "code",
   "execution_count": null,
   "id": "d67186a2",
   "metadata": {},
   "outputs": [],
   "source": [
    "class Cat:\n",
    "    def sound(self):\n",
    "        print(\"Meow\")\n",
    "\n",
    "class Cow:\n",
    "    def sound(self):\n",
    "        print(\"Moo\")\n",
    "\n",
    "def make_sound(animal):\n",
    "    animal.sound()\n",
    "\n",
    "make_sound(Cat())\n",
    "make_sound(Cow())"
   ]
  },
  {
   "cell_type": "markdown",
   "id": "2fc60b94",
   "metadata": {},
   "source": [
    "## 🔹 Encapsulation"
   ]
  },
  {
   "cell_type": "code",
   "execution_count": null,
   "id": "b1787c70",
   "metadata": {},
   "outputs": [],
   "source": [
    "class BankAccount:\n",
    "    def __init__(self, balance):\n",
    "        self.__balance = balance\n",
    "\n",
    "    def deposit(self, amount):\n",
    "        self.__balance += amount\n",
    "\n",
    "    def get_balance(self):\n",
    "        return self.__balance\n",
    "\n",
    "acc = BankAccount(1000)\n",
    "acc.deposit(500)\n",
    "print(acc.get_balance())"
   ]
  },
  {
   "cell_type": "markdown",
   "id": "1bb5412b",
   "metadata": {},
   "source": [
    "## 🔹 Abstraction"
   ]
  },
  {
   "cell_type": "code",
   "execution_count": null,
   "id": "5c16203c",
   "metadata": {},
   "outputs": [],
   "source": [
    "from abc import ABC, abstractmethod\n",
    "\n",
    "class Shape(ABC):\n",
    "    @abstractmethod\n",
    "    def area(self):\n",
    "        pass\n",
    "\n",
    "class Rectangle(Shape):\n",
    "    def __init__(self, length, width):\n",
    "        self.length = length\n",
    "        self.width = width\n",
    "\n",
    "    def area(self):\n",
    "        return self.length * self.width\n",
    "\n",
    "r = Rectangle(4, 5)\n",
    "print(r.area())"
   ]
  },
  {
   "cell_type": "markdown",
   "id": "542cddfc",
   "metadata": {},
   "source": [
    "## 🔸 Advanced OOP"
   ]
  },
  {
   "cell_type": "code",
   "execution_count": null,
   "id": "d94295cd",
   "metadata": {},
   "outputs": [],
   "source": [
    "# Method Overriding\n",
    "class Parent:\n",
    "    def show(self):\n",
    "        print(\"Parent show\")\n",
    "\n",
    "class Child(Parent):\n",
    "    def show(self):\n",
    "        print(\"Child show\")\n",
    "\n",
    "Child().show()"
   ]
  },
  {
   "cell_type": "code",
   "execution_count": null,
   "id": "52af7514",
   "metadata": {},
   "outputs": [],
   "source": [
    "# Method Overloading (Python-style)\n",
    "class Calculator:\n",
    "    def add(self, a, b=0, c=0):\n",
    "        return a + b + c\n",
    "\n",
    "calc = Calculator()\n",
    "print(calc.add(5))\n",
    "print(calc.add(5, 10))\n",
    "print(calc.add(5, 10, 15))"
   ]
  },
  {
   "cell_type": "code",
   "execution_count": null,
   "id": "881c5b79",
   "metadata": {},
   "outputs": [],
   "source": [
    "# Decorators\n",
    "def my_decorator(func):\n",
    "    def wrapper():\n",
    "        print(\"Before function\")\n",
    "        func()\n",
    "        print(\"After function\")\n",
    "    return wrapper\n",
    "\n",
    "@my_decorator\n",
    "def greet():\n",
    "    print(\"Hello\")\n",
    "\n",
    "greet()"
   ]
  },
  {
   "cell_type": "code",
   "execution_count": null,
   "id": "ba25f421",
   "metadata": {},
   "outputs": [],
   "source": [
    "# Dunder Methods (__str__, __repr__)\n",
    "class Book:\n",
    "    def __init__(self, title, author):\n",
    "        self.title = title\n",
    "        self.author = author\n",
    "\n",
    "    def __str__(self):\n",
    "        return f\"{self.title} by {self.author}\"\n",
    "\n",
    "    def __repr__(self):\n",
    "        return f\"Book('{self.title}', '{self.author}')\"\n",
    "\n",
    "book = Book(\"Python\", \"Ali\")\n",
    "print(str(book))\n",
    "print(repr(book))"
   ]
  },
  {
   "cell_type": "code",
   "execution_count": null,
   "id": "26052282",
   "metadata": {},
   "outputs": [],
   "source": [
    "# Access Modifiers: Public, Protected, Private\n",
    "class Demo:\n",
    "    def __init__(self):\n",
    "        self.public = \"Public\"\n",
    "        self._protected = \"Protected\"\n",
    "        self.__private = \"Private\"\n",
    "\n",
    "    def get_private(self):\n",
    "        return self.__private\n",
    "\n",
    "obj = Demo()\n",
    "print(obj.public)\n",
    "print(obj._protected)\n",
    "print(obj.get_private())"
   ]
  }
 ],
 "metadata": {},
 "nbformat": 4,
 "nbformat_minor": 5
}
