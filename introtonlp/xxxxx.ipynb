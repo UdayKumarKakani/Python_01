{
 "cells": [
  {
   "cell_type": "code",
   "execution_count": null,
   "id": "041550fa",
   "metadata": {},
   "outputs": [],
   "source": []
  },
  {
   "cell_type": "markdown",
   "id": "700bcd94",
   "metadata": {},
   "source": []
  }
 ],
 "metadata": {
  "language_info": {
   "name": "python"
  }
 },
 "nbformat": 4,
 "nbformat_minor": 5
}
