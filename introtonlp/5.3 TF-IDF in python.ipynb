{
 "cells": [
  {
   "cell_type": "markdown",
   "metadata": {},
   "source": [
    "# 5.3 TF-IDF"
   ]
  },
  {
   "cell_type": "markdown",
   "metadata": {},
   "source": [
    "1️⃣ First, Remember Bag of Words (BoW)\n",
    "From before, our two sentences are:\n",
    "\n",
    "\"I love cricket\"\n",
    "\n",
    "\"I love playing cricket\"\n",
    "\n",
    "Bag of Words counted how many times each word appeared:\n",
    "\n",
    "Word\tSentence 1\tSentence 2\n",
    "I\t1\t1\n",
    "love\t1\t1\n",
    "cricket\t1\t1\n",
    "playing\t0\t1\n",
    "\n",
    "2️⃣ Problem with just counting 🤔\n",
    "Some words, like “I” or “love”, appear in almost every sentence. They don’t tell us much about what the sentence is really about.\n",
    "But words like “cricket” or “playing” are more special.\n",
    "We want the computer to give more importance to special words and less importance to common words.\n",
    "\n",
    "This is where TF-IDF comes in. ✅\n",
    "\n",
    "3️⃣ TF-IDF in Simple Words\n",
    "TF = Term Frequency → How many times the word appears in the sentence (just like BoW).\n",
    "\n",
    "IDF = Inverse Document Frequency → If a word appears in many sentences, it’s less important. If it appears in few sentences, it’s more important.\n",
    "\n",
    "So:\n",
    "\n",
    "ini\n",
    "Copy\n",
    "Edit\n",
    "TF-IDF = TF × IDF\n",
    "4️⃣ Let’s Calculate TF-IDF for our example\n",
    "We have 2 sentences and 4 words (I, love, cricket, playing).\n",
    "\n",
    "Step 1: Term Frequency (TF)\n",
    "This is just count of word ÷ total words in sentence.\n",
    "\n",
    "Sentence 1 (\"I love cricket\"):\n",
    "\n",
    "I → 1/3 = 0.33\n",
    "\n",
    "love → 1/3 = 0.33\n",
    "\n",
    "cricket → 1/3 = 0.33\n",
    "\n",
    "playing → 0/3 = 0\n",
    "\n",
    "Sentence 2 (\"I love playing cricket\"):\n",
    "\n",
    "I → 1/4 = 0.25\n",
    "\n",
    "love → 1/4 = 0.25\n",
    "\n",
    "cricket → 1/4 = 0.25\n",
    "\n",
    "playing → 1/4 = 0.25\n",
    "\n",
    "Step 2: Inverse Document Frequency (IDF)\n",
    "Formula:\n",
    "\n",
    "mathematica\n",
    "Copy\n",
    "Edit\n",
    "IDF = log(Total Sentences ÷ Sentences Containing the Word)\n",
    "I → log(2/2)=0 (word appears everywhere → not special)\n",
    "\n",
    "love → log(2/2)=0 (common word → not special)\n",
    "\n",
    "cricket → log(2/2)=0 (appears in both)\n",
    "\n",
    "playing → log(2/1)=log(2)=0.693 (appears only in 1 sentence → special)\n",
    "\n",
    "Step 3: TF × IDF\n",
    "Sentence 1:\n",
    "\n",
    "I = 0.33 × 0 = 0\n",
    "\n",
    "love = 0.33 × 0 = 0\n",
    "\n",
    "cricket = 0.33 × 0 = 0\n",
    "\n",
    "playing = 0 × 0.693 = 0\n",
    "\n",
    "Sentence 2:\n",
    "\n",
    "I = 0.25 × 0 = 0\n",
    "\n",
    "love = 0.25 × 0 = 0\n",
    "\n",
    "cricket = 0.25 × 0 = 0\n",
    "\n",
    "playing = 0.25 × 0.693 = 0.173\n",
    "\n",
    "✅ Meaning:\n",
    "TF-IDF gives more importance to \"playing\" because it’s unique to Sentence 2.\n",
    "\n",
    "Common words like \"I\", \"love\", \"cricket\" get less weight because they appear everywhere.\n",
    "\n",
    "So computers can understand which words are important for identifying the meaning of a sentence.\n",
    "\n",
    "💡 Think of TF-IDF like a cricket commentary:\n",
    "\n",
    "If every player is hitting \"singles\", it's common.\n",
    "\n",
    "But if one player hits a \"six\" (special word), the crowd gives more attention! 🎉"
   ]
  },
  {
   "cell_type": "code",
   "execution_count": 2,
   "metadata": {},
   "outputs": [],
   "source": [
    "import pandas as pd\n",
    "from sklearn.feature_extraction.text import TfidfVectorizer"
   ]
  },
  {
   "cell_type": "code",
   "execution_count": 3,
   "metadata": {},
   "outputs": [],
   "source": [
    "data = [' Most shark attacks occur about 10 feet from the beach since that is where the people are',\n",
    "        'the efficiency with which he paired the socks in the drawer was quite admirable',\n",
    "        'carol drank the blood as if she were a vampire',\n",
    "        'giving directions that the mountains are to the west only works when you can see them',\n",
    "        'the sign said there was road work ahead so he decided to speed up',\n",
    "        'the gruff old man sat in the back of the bait shop grumbling to himself as he scooped out a handful of worms']"
   ]
  },
  {
   "cell_type": "code",
   "execution_count": 4,
   "metadata": {},
   "outputs": [],
   "source": [
    "tfidfvec = TfidfVectorizer()"
   ]
  },
  {
   "cell_type": "code",
   "execution_count": 5,
   "metadata": {},
   "outputs": [],
   "source": [
    "tfidfvec_fit = tfidfvec.fit_transform(data)"
   ]
  },
  {
   "cell_type": "code",
   "execution_count": 6,
   "metadata": {},
   "outputs": [],
   "source": [
    "tfidf_bag = pd.DataFrame(tfidfvec_fit.toarray(), columns = tfidfvec.get_feature_names_out())"
   ]
  },
  {
   "cell_type": "code",
   "execution_count": 7,
   "metadata": {},
   "outputs": [
    {
     "name": "stdout",
     "output_type": "stream",
     "text": [
      "         10     about  admirable     ahead       are        as   attacks  \\\n",
      "0  0.257061  0.257061   0.000000  0.000000  0.210794  0.000000  0.257061   \n",
      "1  0.000000  0.000000   0.293641  0.000000  0.000000  0.000000  0.000000   \n",
      "2  0.000000  0.000000   0.000000  0.000000  0.000000  0.292313  0.000000   \n",
      "3  0.000000  0.000000   0.000000  0.000000  0.222257  0.000000  0.000000   \n",
      "4  0.000000  0.000000   0.000000  0.290766  0.000000  0.000000  0.000000   \n",
      "5  0.000000  0.000000   0.000000  0.000000  0.000000  0.178615  0.000000   \n",
      "\n",
      "      back     bait     beach  ...      were     west     when     where  \\\n",
      "0  0.00000  0.00000  0.257061  ...  0.000000  0.00000  0.00000  0.257061   \n",
      "1  0.00000  0.00000  0.000000  ...  0.000000  0.00000  0.00000  0.000000   \n",
      "2  0.00000  0.00000  0.000000  ...  0.356474  0.00000  0.00000  0.000000   \n",
      "3  0.00000  0.00000  0.000000  ...  0.000000  0.27104  0.27104  0.000000   \n",
      "4  0.00000  0.00000  0.000000  ...  0.000000  0.00000  0.00000  0.000000   \n",
      "5  0.21782  0.21782  0.000000  ...  0.000000  0.00000  0.00000  0.000000   \n",
      "\n",
      "      which      with      work    works    worms      you  \n",
      "0  0.000000  0.000000  0.000000  0.00000  0.00000  0.00000  \n",
      "1  0.293641  0.293641  0.000000  0.00000  0.00000  0.00000  \n",
      "2  0.000000  0.000000  0.000000  0.00000  0.00000  0.00000  \n",
      "3  0.000000  0.000000  0.000000  0.27104  0.00000  0.27104  \n",
      "4  0.000000  0.000000  0.290766  0.00000  0.00000  0.00000  \n",
      "5  0.000000  0.000000  0.000000  0.00000  0.21782  0.00000  \n",
      "\n",
      "[6 rows x 71 columns]\n"
     ]
    }
   ],
   "source": [
    "print(tfidf_bag)"
   ]
  },
  {
   "cell_type": "code",
   "execution_count": 3,
   "metadata": {},
   "outputs": [
    {
     "name": "stdout",
     "output_type": "stream",
     "text": [
      "🔹 Words: ['cricket' 'love' 'playing']\n",
      "🔹 TF-IDF Scores:\n",
      " [[0.70710678 0.70710678 0.        ]\n",
      " [0.50154891 0.50154891 0.70490949]]\n"
     ]
    }
   ],
   "source": [
    "\n",
    "sentences = [\"I love cricket\", \"I love playing cricket\"]\n",
    "\n",
    "vectorizer = TfidfVectorizer()\n",
    "tfidf_matrix = vectorizer.fit_transform(sentences)\n",
    "\n",
    "print(\"🔹 Words:\", vectorizer.get_feature_names_out())\n",
    "print(\"🔹 TF-IDF Scores:\\n\", tfidf_matrix.toarray())"
   ]
  }
 ],
 "metadata": {
  "kernelspec": {
   "display_name": "uday_U01",
   "language": "python",
   "name": "python3"
  },
  "language_info": {
   "codemirror_mode": {
    "name": "ipython",
    "version": 3
   },
   "file_extension": ".py",
   "mimetype": "text/x-python",
   "name": "python",
   "nbconvert_exporter": "python",
   "pygments_lexer": "ipython3",
   "version": "3.11.13"
  }
 },
 "nbformat": 4,
 "nbformat_minor": 4
}
