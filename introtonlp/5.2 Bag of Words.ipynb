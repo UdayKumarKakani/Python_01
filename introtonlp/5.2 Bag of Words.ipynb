{
 "cells": [
  {
   "cell_type": "markdown",
   "metadata": {},
   "source": [
    "# 5.2 Bag of Words"
   ]
  },
  {
   "cell_type": "markdown",
   "metadata": {},
   "source": [
    "📖 Story: Bag of Words\n",
    "Let's say you and your friends wrote these two sentences:\n",
    "\n",
    "1️⃣ \"I love cricket\"\n",
    "2️⃣ \"I love playing cricket\"\n",
    "\n",
    "Now, imagine you take all the words from both sentences and put them into a bag.\n",
    "\n",
    "Your bag will look like this:\n",
    "\n",
    "css\n",
    "Copy\n",
    "Edit\n",
    "[\"I\", \"love\", \"cricket\", \"I\", \"love\", \"playing\", \"cricket\"]\n",
    "But a bag doesn’t care about order, right? If you mix the toffees, you don’t remember who threw them first.\n",
    "So, you just count how many of each word you have, like counting candies. 🍭\n",
    "\n",
    "🏏 Example Table\n",
    "Word\tCount\n",
    "I\t2\n",
    "love\t2\n",
    "cricket\t2\n",
    "playing\t1\n",
    "\n",
    "This is called a Bag of Words (BoW) because:\n",
    "\n",
    "We ignore the order of words. (Doesn’t matter if you said \"love cricket\" or \"cricket love\")\n",
    "\n",
    "We just count how many times each word appeared, like counting candies.\n",
    "\n",
    "🧠 Why is this useful?\n",
    "Computers don’t understand language like we do.\n",
    "\n",
    "BoW gives them numbers to work with.\n",
    "\n",
    "Example:\n",
    "\n",
    "Sentence 1 = [1, 1, 1, 0] (no \"playing\")\n",
    "\n",
    "Sentence 2 = [1, 1, 1, 1] (has \"playing\")\n",
    "\n",
    "Now the computer can do math to compare sentences! ✅\n",
    "\n",
    "🎯 Real-life Example\n",
    "Suppose you are analyzing your friends' chat messages:\n",
    "\n",
    "Chat 1: \"I like samosa\"\n",
    "\n",
    "Chat 2: \"I like dosa\"\n",
    "\n",
    "Bag of words helps you count and compare:\n",
    "\n",
    "Word list: [\"I\", \"like\", \"samosa\", \"dosa\"]\n",
    "\n",
    "Counts:\n",
    "\n",
    "Chat 1 → [1, 1, 1, 0]\n",
    "\n",
    "Chat 2 → [1, 1, 0, 1]\n",
    "\n",
    "So you know:\n",
    "\n",
    "Both friends like food (I, like) 🍽️\n",
    "\n",
    "One likes samosa, the other dosa 😄\n",
    "\n",
    "💡 Think of Bag of Words = A bag filled with words like candies, where only the count matters, not the order.\n",
    "\n"
   ]
  },
  {
   "cell_type": "code",
   "execution_count": 7,
   "metadata": {},
   "outputs": [],
   "source": [
    "import pandas as pd\n",
    "from sklearn.feature_extraction.text import CountVectorizer"
   ]
  },
  {
   "cell_type": "code",
   "execution_count": null,
   "metadata": {},
   "outputs": [],
   "source": [
    "data = [' Most shark attacks occur about 10 feet from the beach since that is where the people are',\n",
    "        'the efficiency with which he paired the socks in the drawer was quite admirable',\n",
    "        'carol drank the blood as if she were a vampire',\n",
    "        'giving directions that the mountains are to the west only works when you can see them',\n",
    "        'the sign said there was road work ahead so he decided to speed up',\n",
    "        'the gruff old man sat in the back of the bait shop grumbling to himself as he scooped out a handful of worms']"
   ]
  },
  {
   "cell_type": "code",
   "execution_count": 9,
   "metadata": {},
   "outputs": [],
   "source": [
    "countvec = CountVectorizer()"
   ]
  },
  {
   "cell_type": "code",
   "execution_count": 14,
   "metadata": {},
   "outputs": [],
   "source": [
    "countvec_fit = countvec.fit_transform(data)"
   ]
  },
  {
   "cell_type": "code",
   "execution_count": 15,
   "metadata": {},
   "outputs": [],
   "source": [
    "bag_of_words = pd.DataFrame(countvec_fit.toarray(), columns = countvec.get_feature_names_out())"
   ]
  },
  {
   "cell_type": "code",
   "execution_count": 16,
   "metadata": {},
   "outputs": [
    {
     "name": "stdout",
     "output_type": "stream",
     "text": [
      "   10  about  admirable  ahead  are  as  attacks  back  bait  beach  ...  \\\n",
      "0   1      1          1      0    1   0        1     0     0      1  ...   \n",
      "1   0      0          1      0    0   0        0     0     0      0  ...   \n",
      "2   0      0          0      0    0   1        0     0     0      0  ...   \n",
      "3   0      0          0      0    1   0        0     0     0      0  ...   \n",
      "4   0      0          0      1    0   0        0     0     0      0  ...   \n",
      "5   0      0          0      0    0   1        0     1     1      0  ...   \n",
      "\n",
      "   were  west  when  where  which  with  work  works  worms  you  \n",
      "0     0     0     0      1      0     0     0      0      0    0  \n",
      "1     0     0     0      0      1     1     0      0      0    0  \n",
      "2     1     0     0      0      0     0     0      0      0    0  \n",
      "3     0     1     1      0      0     0     0      1      0    1  \n",
      "4     0     0     0      0      0     0     1      0      0    0  \n",
      "5     0     0     0      0      0     0     0      0      1    0  \n",
      "\n",
      "[6 rows x 71 columns]\n"
     ]
    }
   ],
   "source": [
    "print(bag_of_words)"
   ]
  },
  {
   "cell_type": "code",
   "execution_count": 17,
   "metadata": {},
   "outputs": [
    {
     "name": "stdout",
     "output_type": "stream",
     "text": [
      "🔹 All words collected: ['i', 'love', 'cricket', 'i', 'love', 'playing', 'cricket']\n",
      "🔹 Unique words: ['playing', 'cricket', 'love', 'i']\n",
      "\n",
      "🔹 Bag of Words Matrix:\n",
      "[0, 1, 1, 1]\n",
      "[1, 1, 1, 1]\n"
     ]
    }
   ],
   "source": [
    "# Example sentences\n",
    "sentences = [\n",
    "    \"I love cricket\",\n",
    "    \"I love playing cricket\"\n",
    "]\n",
    "\n",
    "# Step 1️⃣: Split sentences into words\n",
    "words = []\n",
    "for sentence in sentences:\n",
    "    words.extend(sentence.lower().split())\n",
    "\n",
    "print(\"🔹 All words collected:\", words)\n",
    "\n",
    "# Step 2️⃣: Create a list of unique words (like unique candies)\n",
    "unique_words = list(set(words))\n",
    "print(\"🔹 Unique words:\", unique_words)\n",
    "\n",
    "# Step 3️⃣: Count occurrences of each word for each sentence\n",
    "bag_of_words = []\n",
    "\n",
    "for sentence in sentences:\n",
    "    word_count = []\n",
    "    for word in unique_words:\n",
    "        word_count.append(sentence.lower().split().count(word))\n",
    "    bag_of_words.append(word_count)\n",
    "\n",
    "# Step 4️⃣: Show the Bag of Words matrix\n",
    "print(\"\\n🔹 Bag of Words Matrix:\")\n",
    "for row in bag_of_words:\n",
    "    print(row)\n"
   ]
  }
 ],
 "metadata": {
  "kernelspec": {
   "display_name": "uday_U01",
   "language": "python",
   "name": "python3"
  },
  "language_info": {
   "codemirror_mode": {
    "name": "ipython",
    "version": 3
   },
   "file_extension": ".py",
   "mimetype": "text/x-python",
   "name": "python",
   "nbconvert_exporter": "python",
   "pygments_lexer": "ipython3",
   "version": "3.11.13"
  }
 },
 "nbformat": 4,
 "nbformat_minor": 4
}
